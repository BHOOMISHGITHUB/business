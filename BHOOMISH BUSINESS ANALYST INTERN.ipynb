{
 "cells": [
  {
   "cell_type": "markdown",
   "id": "8b7dab58",
   "metadata": {},
   "source": [
    "# Assignment for Business Analyst Intern @Jar - BHOOMISH BUSINESS ANALYST"
   ]
  },
  {
   "cell_type": "code",
   "execution_count": 3,
   "id": "de3f51a6",
   "metadata": {},
   "outputs": [],
   "source": [
    "import pandas as pd\n",
    "import numpy as np\n",
    "import matplotlib.pyplot as plt\n",
    "import seaborn as sns"
   ]
  },
  {
   "cell_type": "code",
   "execution_count": 5,
   "id": "1c53b5f3",
   "metadata": {},
   "outputs": [],
   "source": [
    "df=pd.read_excel(r\"C:\\Users\\BHOOMISH\\OneDrive\\Desktop\\BA Assignment Walmart Sales.xlsx\")"
   ]
  },
  {
   "cell_type": "code",
   "execution_count": 7,
   "id": "cecc0768",
   "metadata": {},
   "outputs": [
    {
     "data": {
      "text/html": [
       "<div>\n",
       "<style scoped>\n",
       "    .dataframe tbody tr th:only-of-type {\n",
       "        vertical-align: middle;\n",
       "    }\n",
       "\n",
       "    .dataframe tbody tr th {\n",
       "        vertical-align: top;\n",
       "    }\n",
       "\n",
       "    .dataframe thead th {\n",
       "        text-align: right;\n",
       "    }\n",
       "</style>\n",
       "<table border=\"1\" class=\"dataframe\">\n",
       "  <thead>\n",
       "    <tr style=\"text-align: right;\">\n",
       "      <th></th>\n",
       "      <th>Invoice ID</th>\n",
       "      <th>Branch</th>\n",
       "      <th>City</th>\n",
       "      <th>Customer type</th>\n",
       "      <th>Gender</th>\n",
       "      <th>Product line</th>\n",
       "      <th>Unit price</th>\n",
       "      <th>Quantity</th>\n",
       "      <th>Date</th>\n",
       "      <th>Time</th>\n",
       "      <th>Payment</th>\n",
       "      <th>Rating</th>\n",
       "    </tr>\n",
       "  </thead>\n",
       "  <tbody>\n",
       "    <tr>\n",
       "      <th>0</th>\n",
       "      <td>750-67-8428</td>\n",
       "      <td>A</td>\n",
       "      <td>Yangon</td>\n",
       "      <td>Member</td>\n",
       "      <td>Female</td>\n",
       "      <td>Health and beauty</td>\n",
       "      <td>74.69</td>\n",
       "      <td>7</td>\n",
       "      <td>1/5/2019</td>\n",
       "      <td>13:08:00</td>\n",
       "      <td>Ewallet</td>\n",
       "      <td>9.1</td>\n",
       "    </tr>\n",
       "    <tr>\n",
       "      <th>1</th>\n",
       "      <td>226-31-3081</td>\n",
       "      <td>A</td>\n",
       "      <td>Naypyitaw</td>\n",
       "      <td>Normal</td>\n",
       "      <td>Female</td>\n",
       "      <td>Electronic accessories</td>\n",
       "      <td>15.28</td>\n",
       "      <td>5</td>\n",
       "      <td>3/8/2019</td>\n",
       "      <td>10:29:00</td>\n",
       "      <td>Cash</td>\n",
       "      <td>9.6</td>\n",
       "    </tr>\n",
       "    <tr>\n",
       "      <th>2</th>\n",
       "      <td>631-41-3108</td>\n",
       "      <td>A</td>\n",
       "      <td>Yangon</td>\n",
       "      <td>Normal</td>\n",
       "      <td>Male</td>\n",
       "      <td>Home and lifestyle</td>\n",
       "      <td>46.33</td>\n",
       "      <td>7</td>\n",
       "      <td>3/3/2019</td>\n",
       "      <td>13:23:00</td>\n",
       "      <td>Credit card</td>\n",
       "      <td>7.4</td>\n",
       "    </tr>\n",
       "    <tr>\n",
       "      <th>3</th>\n",
       "      <td>123-19-1176</td>\n",
       "      <td>B</td>\n",
       "      <td>Yangon</td>\n",
       "      <td>Member</td>\n",
       "      <td>Male</td>\n",
       "      <td>Health and beauty</td>\n",
       "      <td>58.22</td>\n",
       "      <td>8</td>\n",
       "      <td>1/27/2019</td>\n",
       "      <td>20:33:00</td>\n",
       "      <td>Ewallet</td>\n",
       "      <td>8.4</td>\n",
       "    </tr>\n",
       "    <tr>\n",
       "      <th>4</th>\n",
       "      <td>373-73-7910</td>\n",
       "      <td>C</td>\n",
       "      <td>Yangon</td>\n",
       "      <td>Normal</td>\n",
       "      <td>Male</td>\n",
       "      <td>Sports and travel</td>\n",
       "      <td>86.31</td>\n",
       "      <td>7</td>\n",
       "      <td>2/8/2019</td>\n",
       "      <td>10:37:00</td>\n",
       "      <td>Ewallet</td>\n",
       "      <td>5.3</td>\n",
       "    </tr>\n",
       "    <tr>\n",
       "      <th>...</th>\n",
       "      <td>...</td>\n",
       "      <td>...</td>\n",
       "      <td>...</td>\n",
       "      <td>...</td>\n",
       "      <td>...</td>\n",
       "      <td>...</td>\n",
       "      <td>...</td>\n",
       "      <td>...</td>\n",
       "      <td>...</td>\n",
       "      <td>...</td>\n",
       "      <td>...</td>\n",
       "      <td>...</td>\n",
       "    </tr>\n",
       "    <tr>\n",
       "      <th>995</th>\n",
       "      <td>233-67-5758</td>\n",
       "      <td>A</td>\n",
       "      <td>Naypyitaw</td>\n",
       "      <td>Normal</td>\n",
       "      <td>Male</td>\n",
       "      <td>Health and beauty</td>\n",
       "      <td>40.35</td>\n",
       "      <td>1</td>\n",
       "      <td>1/29/2019</td>\n",
       "      <td>13:46:00</td>\n",
       "      <td>Ewallet</td>\n",
       "      <td>6.2</td>\n",
       "    </tr>\n",
       "    <tr>\n",
       "      <th>996</th>\n",
       "      <td>303-96-2227</td>\n",
       "      <td>A</td>\n",
       "      <td>Mandalay</td>\n",
       "      <td>Normal</td>\n",
       "      <td>Female</td>\n",
       "      <td>Home and lifestyle</td>\n",
       "      <td>97.38</td>\n",
       "      <td>10</td>\n",
       "      <td>3/2/2019</td>\n",
       "      <td>17:16:00</td>\n",
       "      <td>Ewallet</td>\n",
       "      <td>4.4</td>\n",
       "    </tr>\n",
       "    <tr>\n",
       "      <th>997</th>\n",
       "      <td>727-02-1313</td>\n",
       "      <td>A</td>\n",
       "      <td>Yangon</td>\n",
       "      <td>Member</td>\n",
       "      <td>Male</td>\n",
       "      <td>Food and beverages</td>\n",
       "      <td>31.84</td>\n",
       "      <td>1</td>\n",
       "      <td>2/9/2019</td>\n",
       "      <td>13:22:00</td>\n",
       "      <td>Cash</td>\n",
       "      <td>7.7</td>\n",
       "    </tr>\n",
       "    <tr>\n",
       "      <th>998</th>\n",
       "      <td>347-56-2442</td>\n",
       "      <td>B</td>\n",
       "      <td>Yangon</td>\n",
       "      <td>Normal</td>\n",
       "      <td>Male</td>\n",
       "      <td>Home and lifestyle</td>\n",
       "      <td>65.82</td>\n",
       "      <td>1</td>\n",
       "      <td>2/22/2019</td>\n",
       "      <td>15:33:00</td>\n",
       "      <td>Cash</td>\n",
       "      <td>4.1</td>\n",
       "    </tr>\n",
       "    <tr>\n",
       "      <th>999</th>\n",
       "      <td>849-09-3807</td>\n",
       "      <td>C</td>\n",
       "      <td>Yangon</td>\n",
       "      <td>Member</td>\n",
       "      <td>Female</td>\n",
       "      <td>Fashion accessories</td>\n",
       "      <td>88.34</td>\n",
       "      <td>7</td>\n",
       "      <td>2/18/2019</td>\n",
       "      <td>13:28:00</td>\n",
       "      <td>Cash</td>\n",
       "      <td>6.6</td>\n",
       "    </tr>\n",
       "  </tbody>\n",
       "</table>\n",
       "<p>1000 rows × 12 columns</p>\n",
       "</div>"
      ],
      "text/plain": [
       "      Invoice ID Branch       City Customer type  Gender  \\\n",
       "0    750-67-8428      A     Yangon        Member  Female   \n",
       "1    226-31-3081      A  Naypyitaw        Normal  Female   \n",
       "2    631-41-3108      A     Yangon        Normal    Male   \n",
       "3    123-19-1176      B     Yangon        Member    Male   \n",
       "4    373-73-7910      C     Yangon        Normal    Male   \n",
       "..           ...    ...        ...           ...     ...   \n",
       "995  233-67-5758      A  Naypyitaw        Normal    Male   \n",
       "996  303-96-2227      A   Mandalay        Normal  Female   \n",
       "997  727-02-1313      A     Yangon        Member    Male   \n",
       "998  347-56-2442      B     Yangon        Normal    Male   \n",
       "999  849-09-3807      C     Yangon        Member  Female   \n",
       "\n",
       "               Product line  Unit price  Quantity       Date      Time  \\\n",
       "0         Health and beauty       74.69         7   1/5/2019  13:08:00   \n",
       "1    Electronic accessories       15.28         5   3/8/2019  10:29:00   \n",
       "2        Home and lifestyle       46.33         7   3/3/2019  13:23:00   \n",
       "3         Health and beauty       58.22         8  1/27/2019  20:33:00   \n",
       "4         Sports and travel       86.31         7   2/8/2019  10:37:00   \n",
       "..                      ...         ...       ...        ...       ...   \n",
       "995       Health and beauty       40.35         1  1/29/2019  13:46:00   \n",
       "996      Home and lifestyle       97.38        10   3/2/2019  17:16:00   \n",
       "997      Food and beverages       31.84         1   2/9/2019  13:22:00   \n",
       "998      Home and lifestyle       65.82         1  2/22/2019  15:33:00   \n",
       "999     Fashion accessories       88.34         7  2/18/2019  13:28:00   \n",
       "\n",
       "         Payment  Rating  \n",
       "0        Ewallet     9.1  \n",
       "1           Cash     9.6  \n",
       "2    Credit card     7.4  \n",
       "3        Ewallet     8.4  \n",
       "4        Ewallet     5.3  \n",
       "..           ...     ...  \n",
       "995      Ewallet     6.2  \n",
       "996      Ewallet     4.4  \n",
       "997         Cash     7.7  \n",
       "998         Cash     4.1  \n",
       "999         Cash     6.6  \n",
       "\n",
       "[1000 rows x 12 columns]"
      ]
     },
     "execution_count": 7,
     "metadata": {},
     "output_type": "execute_result"
    }
   ],
   "source": [
    "df"
   ]
  },
  {
   "cell_type": "code",
   "execution_count": 13,
   "id": "897c105b",
   "metadata": {},
   "outputs": [
    {
     "data": {
      "text/html": [
       "<div>\n",
       "<style scoped>\n",
       "    .dataframe tbody tr th:only-of-type {\n",
       "        vertical-align: middle;\n",
       "    }\n",
       "\n",
       "    .dataframe tbody tr th {\n",
       "        vertical-align: top;\n",
       "    }\n",
       "\n",
       "    .dataframe thead th {\n",
       "        text-align: right;\n",
       "    }\n",
       "</style>\n",
       "<table border=\"1\" class=\"dataframe\">\n",
       "  <thead>\n",
       "    <tr style=\"text-align: right;\">\n",
       "      <th></th>\n",
       "      <th>Invoice ID</th>\n",
       "      <th>Branch</th>\n",
       "      <th>City</th>\n",
       "      <th>Customer type</th>\n",
       "      <th>Gender</th>\n",
       "      <th>Product line</th>\n",
       "      <th>Unit price</th>\n",
       "      <th>Quantity</th>\n",
       "      <th>Date</th>\n",
       "      <th>Time</th>\n",
       "      <th>Payment</th>\n",
       "      <th>Rating</th>\n",
       "    </tr>\n",
       "  </thead>\n",
       "  <tbody>\n",
       "    <tr>\n",
       "      <th>0</th>\n",
       "      <td>750-67-8428</td>\n",
       "      <td>A</td>\n",
       "      <td>Yangon</td>\n",
       "      <td>Member</td>\n",
       "      <td>Female</td>\n",
       "      <td>Health and beauty</td>\n",
       "      <td>74.69</td>\n",
       "      <td>7</td>\n",
       "      <td>1/5/2019</td>\n",
       "      <td>13:08:00</td>\n",
       "      <td>Ewallet</td>\n",
       "      <td>9.1</td>\n",
       "    </tr>\n",
       "    <tr>\n",
       "      <th>1</th>\n",
       "      <td>226-31-3081</td>\n",
       "      <td>A</td>\n",
       "      <td>Naypyitaw</td>\n",
       "      <td>Normal</td>\n",
       "      <td>Female</td>\n",
       "      <td>Electronic accessories</td>\n",
       "      <td>15.28</td>\n",
       "      <td>5</td>\n",
       "      <td>3/8/2019</td>\n",
       "      <td>10:29:00</td>\n",
       "      <td>Cash</td>\n",
       "      <td>9.6</td>\n",
       "    </tr>\n",
       "    <tr>\n",
       "      <th>2</th>\n",
       "      <td>631-41-3108</td>\n",
       "      <td>A</td>\n",
       "      <td>Yangon</td>\n",
       "      <td>Normal</td>\n",
       "      <td>Male</td>\n",
       "      <td>Home and lifestyle</td>\n",
       "      <td>46.33</td>\n",
       "      <td>7</td>\n",
       "      <td>3/3/2019</td>\n",
       "      <td>13:23:00</td>\n",
       "      <td>Credit card</td>\n",
       "      <td>7.4</td>\n",
       "    </tr>\n",
       "    <tr>\n",
       "      <th>3</th>\n",
       "      <td>123-19-1176</td>\n",
       "      <td>B</td>\n",
       "      <td>Yangon</td>\n",
       "      <td>Member</td>\n",
       "      <td>Male</td>\n",
       "      <td>Health and beauty</td>\n",
       "      <td>58.22</td>\n",
       "      <td>8</td>\n",
       "      <td>1/27/2019</td>\n",
       "      <td>20:33:00</td>\n",
       "      <td>Ewallet</td>\n",
       "      <td>8.4</td>\n",
       "    </tr>\n",
       "    <tr>\n",
       "      <th>4</th>\n",
       "      <td>373-73-7910</td>\n",
       "      <td>C</td>\n",
       "      <td>Yangon</td>\n",
       "      <td>Normal</td>\n",
       "      <td>Male</td>\n",
       "      <td>Sports and travel</td>\n",
       "      <td>86.31</td>\n",
       "      <td>7</td>\n",
       "      <td>2/8/2019</td>\n",
       "      <td>10:37:00</td>\n",
       "      <td>Ewallet</td>\n",
       "      <td>5.3</td>\n",
       "    </tr>\n",
       "  </tbody>\n",
       "</table>\n",
       "</div>"
      ],
      "text/plain": [
       "    Invoice ID Branch       City Customer type  Gender  \\\n",
       "0  750-67-8428      A     Yangon        Member  Female   \n",
       "1  226-31-3081      A  Naypyitaw        Normal  Female   \n",
       "2  631-41-3108      A     Yangon        Normal    Male   \n",
       "3  123-19-1176      B     Yangon        Member    Male   \n",
       "4  373-73-7910      C     Yangon        Normal    Male   \n",
       "\n",
       "             Product line  Unit price  Quantity       Date      Time  \\\n",
       "0       Health and beauty       74.69         7   1/5/2019  13:08:00   \n",
       "1  Electronic accessories       15.28         5   3/8/2019  10:29:00   \n",
       "2      Home and lifestyle       46.33         7   3/3/2019  13:23:00   \n",
       "3       Health and beauty       58.22         8  1/27/2019  20:33:00   \n",
       "4       Sports and travel       86.31         7   2/8/2019  10:37:00   \n",
       "\n",
       "       Payment  Rating  \n",
       "0      Ewallet     9.1  \n",
       "1         Cash     9.6  \n",
       "2  Credit card     7.4  \n",
       "3      Ewallet     8.4  \n",
       "4      Ewallet     5.3  "
      ]
     },
     "execution_count": 13,
     "metadata": {},
     "output_type": "execute_result"
    }
   ],
   "source": [
    "df.head(5)#Checking the head of the dataset "
   ]
  },
  {
   "cell_type": "code",
   "execution_count": 11,
   "id": "65a41a5f",
   "metadata": {},
   "outputs": [
    {
     "data": {
      "text/html": [
       "<div>\n",
       "<style scoped>\n",
       "    .dataframe tbody tr th:only-of-type {\n",
       "        vertical-align: middle;\n",
       "    }\n",
       "\n",
       "    .dataframe tbody tr th {\n",
       "        vertical-align: top;\n",
       "    }\n",
       "\n",
       "    .dataframe thead th {\n",
       "        text-align: right;\n",
       "    }\n",
       "</style>\n",
       "<table border=\"1\" class=\"dataframe\">\n",
       "  <thead>\n",
       "    <tr style=\"text-align: right;\">\n",
       "      <th></th>\n",
       "      <th>Invoice ID</th>\n",
       "      <th>Branch</th>\n",
       "      <th>City</th>\n",
       "      <th>Customer type</th>\n",
       "      <th>Gender</th>\n",
       "      <th>Product line</th>\n",
       "      <th>Unit price</th>\n",
       "      <th>Quantity</th>\n",
       "      <th>Date</th>\n",
       "      <th>Time</th>\n",
       "      <th>Payment</th>\n",
       "      <th>Rating</th>\n",
       "    </tr>\n",
       "  </thead>\n",
       "  <tbody>\n",
       "    <tr>\n",
       "      <th>995</th>\n",
       "      <td>233-67-5758</td>\n",
       "      <td>A</td>\n",
       "      <td>Naypyitaw</td>\n",
       "      <td>Normal</td>\n",
       "      <td>Male</td>\n",
       "      <td>Health and beauty</td>\n",
       "      <td>40.35</td>\n",
       "      <td>1</td>\n",
       "      <td>1/29/2019</td>\n",
       "      <td>13:46:00</td>\n",
       "      <td>Ewallet</td>\n",
       "      <td>6.2</td>\n",
       "    </tr>\n",
       "    <tr>\n",
       "      <th>996</th>\n",
       "      <td>303-96-2227</td>\n",
       "      <td>A</td>\n",
       "      <td>Mandalay</td>\n",
       "      <td>Normal</td>\n",
       "      <td>Female</td>\n",
       "      <td>Home and lifestyle</td>\n",
       "      <td>97.38</td>\n",
       "      <td>10</td>\n",
       "      <td>3/2/2019</td>\n",
       "      <td>17:16:00</td>\n",
       "      <td>Ewallet</td>\n",
       "      <td>4.4</td>\n",
       "    </tr>\n",
       "    <tr>\n",
       "      <th>997</th>\n",
       "      <td>727-02-1313</td>\n",
       "      <td>A</td>\n",
       "      <td>Yangon</td>\n",
       "      <td>Member</td>\n",
       "      <td>Male</td>\n",
       "      <td>Food and beverages</td>\n",
       "      <td>31.84</td>\n",
       "      <td>1</td>\n",
       "      <td>2/9/2019</td>\n",
       "      <td>13:22:00</td>\n",
       "      <td>Cash</td>\n",
       "      <td>7.7</td>\n",
       "    </tr>\n",
       "    <tr>\n",
       "      <th>998</th>\n",
       "      <td>347-56-2442</td>\n",
       "      <td>B</td>\n",
       "      <td>Yangon</td>\n",
       "      <td>Normal</td>\n",
       "      <td>Male</td>\n",
       "      <td>Home and lifestyle</td>\n",
       "      <td>65.82</td>\n",
       "      <td>1</td>\n",
       "      <td>2/22/2019</td>\n",
       "      <td>15:33:00</td>\n",
       "      <td>Cash</td>\n",
       "      <td>4.1</td>\n",
       "    </tr>\n",
       "    <tr>\n",
       "      <th>999</th>\n",
       "      <td>849-09-3807</td>\n",
       "      <td>C</td>\n",
       "      <td>Yangon</td>\n",
       "      <td>Member</td>\n",
       "      <td>Female</td>\n",
       "      <td>Fashion accessories</td>\n",
       "      <td>88.34</td>\n",
       "      <td>7</td>\n",
       "      <td>2/18/2019</td>\n",
       "      <td>13:28:00</td>\n",
       "      <td>Cash</td>\n",
       "      <td>6.6</td>\n",
       "    </tr>\n",
       "  </tbody>\n",
       "</table>\n",
       "</div>"
      ],
      "text/plain": [
       "      Invoice ID Branch       City Customer type  Gender         Product line  \\\n",
       "995  233-67-5758      A  Naypyitaw        Normal    Male    Health and beauty   \n",
       "996  303-96-2227      A   Mandalay        Normal  Female   Home and lifestyle   \n",
       "997  727-02-1313      A     Yangon        Member    Male   Food and beverages   \n",
       "998  347-56-2442      B     Yangon        Normal    Male   Home and lifestyle   \n",
       "999  849-09-3807      C     Yangon        Member  Female  Fashion accessories   \n",
       "\n",
       "     Unit price  Quantity       Date      Time  Payment  Rating  \n",
       "995       40.35         1  1/29/2019  13:46:00  Ewallet     6.2  \n",
       "996       97.38        10   3/2/2019  17:16:00  Ewallet     4.4  \n",
       "997       31.84         1   2/9/2019  13:22:00     Cash     7.7  \n",
       "998       65.82         1  2/22/2019  15:33:00     Cash     4.1  \n",
       "999       88.34         7  2/18/2019  13:28:00     Cash     6.6  "
      ]
     },
     "execution_count": 11,
     "metadata": {},
     "output_type": "execute_result"
    }
   ],
   "source": [
    "df.tail(5)#Checking the tail of the dataset "
   ]
  },
  {
   "cell_type": "code",
   "execution_count": 10,
   "id": "897a9e4c",
   "metadata": {},
   "outputs": [
    {
     "data": {
      "text/plain": [
       "(1000, 12)"
      ]
     },
     "execution_count": 10,
     "metadata": {},
     "output_type": "execute_result"
    }
   ],
   "source": [
    "df.shape #checking the shape "
   ]
  },
  {
   "cell_type": "code",
   "execution_count": 14,
   "id": "d28aab34",
   "metadata": {},
   "outputs": [
    {
     "data": {
      "text/plain": [
       "Invoice ID       0\n",
       "Branch           0\n",
       "City             0\n",
       "Customer type    0\n",
       "Gender           0\n",
       "Product line     0\n",
       "Unit price       0\n",
       "Quantity         0\n",
       "Date             0\n",
       "Time             0\n",
       "Payment          0\n",
       "Rating           0\n",
       "dtype: int64"
      ]
     },
     "execution_count": 14,
     "metadata": {},
     "output_type": "execute_result"
    }
   ],
   "source": [
    "df.isnull().sum() #checking the null values"
   ]
  },
  {
   "cell_type": "code",
   "execution_count": 15,
   "id": "809f8edf",
   "metadata": {},
   "outputs": [
    {
     "name": "stdout",
     "output_type": "stream",
     "text": [
      "<class 'pandas.core.frame.DataFrame'>\n",
      "RangeIndex: 1000 entries, 0 to 999\n",
      "Data columns (total 12 columns):\n",
      " #   Column         Non-Null Count  Dtype  \n",
      "---  ------         --------------  -----  \n",
      " 0   Invoice ID     1000 non-null   object \n",
      " 1   Branch         1000 non-null   object \n",
      " 2   City           1000 non-null   object \n",
      " 3   Customer type  1000 non-null   object \n",
      " 4   Gender         1000 non-null   object \n",
      " 5   Product line   1000 non-null   object \n",
      " 6   Unit price     1000 non-null   float64\n",
      " 7   Quantity       1000 non-null   int64  \n",
      " 8   Date           1000 non-null   object \n",
      " 9   Time           1000 non-null   object \n",
      " 10  Payment        1000 non-null   object \n",
      " 11  Rating         1000 non-null   float64\n",
      "dtypes: float64(2), int64(1), object(9)\n",
      "memory usage: 93.9+ KB\n"
     ]
    }
   ],
   "source": [
    "df.info() #checking the datatyoe"
   ]
  },
  {
   "cell_type": "code",
   "execution_count": 17,
   "id": "7755d02c",
   "metadata": {},
   "outputs": [],
   "source": [
    "df[\"Date\"]=pd.to_datetime(df[\"Date\"]) #changing the data type"
   ]
  },
  {
   "cell_type": "code",
   "execution_count": 18,
   "id": "7e7e99e1",
   "metadata": {},
   "outputs": [
    {
     "name": "stdout",
     "output_type": "stream",
     "text": [
      "<class 'pandas.core.frame.DataFrame'>\n",
      "RangeIndex: 1000 entries, 0 to 999\n",
      "Data columns (total 12 columns):\n",
      " #   Column         Non-Null Count  Dtype         \n",
      "---  ------         --------------  -----         \n",
      " 0   Invoice ID     1000 non-null   object        \n",
      " 1   Branch         1000 non-null   object        \n",
      " 2   City           1000 non-null   object        \n",
      " 3   Customer type  1000 non-null   object        \n",
      " 4   Gender         1000 non-null   object        \n",
      " 5   Product line   1000 non-null   object        \n",
      " 6   Unit price     1000 non-null   float64       \n",
      " 7   Quantity       1000 non-null   int64         \n",
      " 8   Date           1000 non-null   datetime64[ns]\n",
      " 9   Time           1000 non-null   object        \n",
      " 10  Payment        1000 non-null   object        \n",
      " 11  Rating         1000 non-null   float64       \n",
      "dtypes: datetime64[ns](1), float64(2), int64(1), object(8)\n",
      "memory usage: 93.9+ KB\n"
     ]
    }
   ],
   "source": [
    "df.info()"
   ]
  },
  {
   "cell_type": "markdown",
   "id": "53c5dda8",
   "metadata": {},
   "source": [
    "# Extracting Month and Year from Date column according to the requirement"
   ]
  },
  {
   "cell_type": "code",
   "execution_count": 21,
   "id": "dc71b0f4",
   "metadata": {},
   "outputs": [],
   "source": [
    "df[\"Month\"]=df[\"Date\"].dt.month\n",
    "df[\"Year\"]=df[\"Date\"].dt.year"
   ]
  },
  {
   "cell_type": "code",
   "execution_count": 22,
   "id": "ad681f16",
   "metadata": {},
   "outputs": [
    {
     "data": {
      "text/html": [
       "<div>\n",
       "<style scoped>\n",
       "    .dataframe tbody tr th:only-of-type {\n",
       "        vertical-align: middle;\n",
       "    }\n",
       "\n",
       "    .dataframe tbody tr th {\n",
       "        vertical-align: top;\n",
       "    }\n",
       "\n",
       "    .dataframe thead th {\n",
       "        text-align: right;\n",
       "    }\n",
       "</style>\n",
       "<table border=\"1\" class=\"dataframe\">\n",
       "  <thead>\n",
       "    <tr style=\"text-align: right;\">\n",
       "      <th></th>\n",
       "      <th>Invoice ID</th>\n",
       "      <th>Branch</th>\n",
       "      <th>City</th>\n",
       "      <th>Customer type</th>\n",
       "      <th>Gender</th>\n",
       "      <th>Product line</th>\n",
       "      <th>Unit price</th>\n",
       "      <th>Quantity</th>\n",
       "      <th>Date</th>\n",
       "      <th>Time</th>\n",
       "      <th>Payment</th>\n",
       "      <th>Rating</th>\n",
       "      <th>Month</th>\n",
       "      <th>Year</th>\n",
       "    </tr>\n",
       "  </thead>\n",
       "  <tbody>\n",
       "    <tr>\n",
       "      <th>0</th>\n",
       "      <td>750-67-8428</td>\n",
       "      <td>A</td>\n",
       "      <td>Yangon</td>\n",
       "      <td>Member</td>\n",
       "      <td>Female</td>\n",
       "      <td>Health and beauty</td>\n",
       "      <td>74.69</td>\n",
       "      <td>7</td>\n",
       "      <td>2019-01-05</td>\n",
       "      <td>13:08:00</td>\n",
       "      <td>Ewallet</td>\n",
       "      <td>9.1</td>\n",
       "      <td>1</td>\n",
       "      <td>2019</td>\n",
       "    </tr>\n",
       "    <tr>\n",
       "      <th>1</th>\n",
       "      <td>226-31-3081</td>\n",
       "      <td>A</td>\n",
       "      <td>Naypyitaw</td>\n",
       "      <td>Normal</td>\n",
       "      <td>Female</td>\n",
       "      <td>Electronic accessories</td>\n",
       "      <td>15.28</td>\n",
       "      <td>5</td>\n",
       "      <td>2019-03-08</td>\n",
       "      <td>10:29:00</td>\n",
       "      <td>Cash</td>\n",
       "      <td>9.6</td>\n",
       "      <td>3</td>\n",
       "      <td>2019</td>\n",
       "    </tr>\n",
       "    <tr>\n",
       "      <th>2</th>\n",
       "      <td>631-41-3108</td>\n",
       "      <td>A</td>\n",
       "      <td>Yangon</td>\n",
       "      <td>Normal</td>\n",
       "      <td>Male</td>\n",
       "      <td>Home and lifestyle</td>\n",
       "      <td>46.33</td>\n",
       "      <td>7</td>\n",
       "      <td>2019-03-03</td>\n",
       "      <td>13:23:00</td>\n",
       "      <td>Credit card</td>\n",
       "      <td>7.4</td>\n",
       "      <td>3</td>\n",
       "      <td>2019</td>\n",
       "    </tr>\n",
       "    <tr>\n",
       "      <th>3</th>\n",
       "      <td>123-19-1176</td>\n",
       "      <td>B</td>\n",
       "      <td>Yangon</td>\n",
       "      <td>Member</td>\n",
       "      <td>Male</td>\n",
       "      <td>Health and beauty</td>\n",
       "      <td>58.22</td>\n",
       "      <td>8</td>\n",
       "      <td>2019-01-27</td>\n",
       "      <td>20:33:00</td>\n",
       "      <td>Ewallet</td>\n",
       "      <td>8.4</td>\n",
       "      <td>1</td>\n",
       "      <td>2019</td>\n",
       "    </tr>\n",
       "    <tr>\n",
       "      <th>4</th>\n",
       "      <td>373-73-7910</td>\n",
       "      <td>C</td>\n",
       "      <td>Yangon</td>\n",
       "      <td>Normal</td>\n",
       "      <td>Male</td>\n",
       "      <td>Sports and travel</td>\n",
       "      <td>86.31</td>\n",
       "      <td>7</td>\n",
       "      <td>2019-02-08</td>\n",
       "      <td>10:37:00</td>\n",
       "      <td>Ewallet</td>\n",
       "      <td>5.3</td>\n",
       "      <td>2</td>\n",
       "      <td>2019</td>\n",
       "    </tr>\n",
       "  </tbody>\n",
       "</table>\n",
       "</div>"
      ],
      "text/plain": [
       "    Invoice ID Branch       City Customer type  Gender  \\\n",
       "0  750-67-8428      A     Yangon        Member  Female   \n",
       "1  226-31-3081      A  Naypyitaw        Normal  Female   \n",
       "2  631-41-3108      A     Yangon        Normal    Male   \n",
       "3  123-19-1176      B     Yangon        Member    Male   \n",
       "4  373-73-7910      C     Yangon        Normal    Male   \n",
       "\n",
       "             Product line  Unit price  Quantity       Date      Time  \\\n",
       "0       Health and beauty       74.69         7 2019-01-05  13:08:00   \n",
       "1  Electronic accessories       15.28         5 2019-03-08  10:29:00   \n",
       "2      Home and lifestyle       46.33         7 2019-03-03  13:23:00   \n",
       "3       Health and beauty       58.22         8 2019-01-27  20:33:00   \n",
       "4       Sports and travel       86.31         7 2019-02-08  10:37:00   \n",
       "\n",
       "       Payment  Rating  Month  Year  \n",
       "0      Ewallet     9.1      1  2019  \n",
       "1         Cash     9.6      3  2019  \n",
       "2  Credit card     7.4      3  2019  \n",
       "3      Ewallet     8.4      1  2019  \n",
       "4      Ewallet     5.3      2  2019  "
      ]
     },
     "execution_count": 22,
     "metadata": {},
     "output_type": "execute_result"
    }
   ],
   "source": [
    "df.head()"
   ]
  },
  {
   "cell_type": "markdown",
   "id": "e5d04494",
   "metadata": {},
   "source": [
    "# checking all import features with their unique values"
   ]
  },
  {
   "cell_type": "code",
   "execution_count": 23,
   "id": "7646583a",
   "metadata": {},
   "outputs": [
    {
     "data": {
      "text/plain": [
       "array(['A', 'B', 'C'], dtype=object)"
      ]
     },
     "execution_count": 23,
     "metadata": {},
     "output_type": "execute_result"
    }
   ],
   "source": [
    "df[\"Branch\"].unique()"
   ]
  },
  {
   "cell_type": "code",
   "execution_count": 24,
   "id": "64539c53",
   "metadata": {},
   "outputs": [
    {
     "data": {
      "text/plain": [
       "array(['Yangon', 'Naypyitaw', 'Mandalay'], dtype=object)"
      ]
     },
     "execution_count": 24,
     "metadata": {},
     "output_type": "execute_result"
    }
   ],
   "source": [
    "df[\"City\"].unique()"
   ]
  },
  {
   "cell_type": "code",
   "execution_count": 25,
   "id": "8b4a3a0d",
   "metadata": {},
   "outputs": [
    {
     "data": {
      "text/plain": [
       "array(['Health and beauty', 'Electronic accessories',\n",
       "       'Home and lifestyle', 'Sports and travel', 'Food and beverages',\n",
       "       'Fashion accessories'], dtype=object)"
      ]
     },
     "execution_count": 25,
     "metadata": {},
     "output_type": "execute_result"
    }
   ],
   "source": [
    "df[\"Product line\"].unique()"
   ]
  },
  {
   "cell_type": "code",
   "execution_count": 26,
   "id": "77422944",
   "metadata": {},
   "outputs": [
    {
     "data": {
      "text/plain": [
       "array(['Ewallet', 'Cash', 'Credit card'], dtype=object)"
      ]
     },
     "execution_count": 26,
     "metadata": {},
     "output_type": "execute_result"
    }
   ],
   "source": [
    "df[\"Payment\"].unique()"
   ]
  },
  {
   "cell_type": "code",
   "execution_count": 27,
   "id": "dc8c005c",
   "metadata": {},
   "outputs": [
    {
     "data": {
      "text/plain": [
       "array([1, 3, 2], dtype=int64)"
      ]
     },
     "execution_count": 27,
     "metadata": {},
     "output_type": "execute_result"
    }
   ],
   "source": [
    "df[\"Month\"].unique()"
   ]
  },
  {
   "cell_type": "code",
   "execution_count": 28,
   "id": "da67bf21",
   "metadata": {},
   "outputs": [
    {
     "data": {
      "text/plain": [
       "array([2019], dtype=int64)"
      ]
     },
     "execution_count": 28,
     "metadata": {},
     "output_type": "execute_result"
    }
   ],
   "source": [
    "df[\"Year\"].unique()"
   ]
  },
  {
   "cell_type": "markdown",
   "id": "e5661074",
   "metadata": {},
   "source": [
    "# Analyze the performance of sales and revenue at the city and branch level"
   ]
  },
  {
   "cell_type": "markdown",
   "id": "abaec17a",
   "metadata": {},
   "source": [
    "# SALES"
   ]
  },
  {
   "cell_type": "code",
   "execution_count": 29,
   "id": "dd928814",
   "metadata": {},
   "outputs": [
    {
     "name": "stderr",
     "output_type": "stream",
     "text": [
      "C:\\Users\\BHOOMISH\\AppData\\Local\\Temp\\ipykernel_17716\\3824531990.py:1: FutureWarning: Indexing with multiple keys (implicitly converted to a tuple of keys) will be deprecated, use a list instead.\n",
      "  sales=df.groupby([\"City\",\"Branch\"])[\"Unit price\",\"Quantity\"].sum()\n"
     ]
    },
    {
     "data": {
      "text/html": [
       "<div>\n",
       "<style scoped>\n",
       "    .dataframe tbody tr th:only-of-type {\n",
       "        vertical-align: middle;\n",
       "    }\n",
       "\n",
       "    .dataframe tbody tr th {\n",
       "        vertical-align: top;\n",
       "    }\n",
       "\n",
       "    .dataframe thead th {\n",
       "        text-align: right;\n",
       "    }\n",
       "</style>\n",
       "<table border=\"1\" class=\"dataframe\">\n",
       "  <thead>\n",
       "    <tr style=\"text-align: right;\">\n",
       "      <th></th>\n",
       "      <th></th>\n",
       "      <th>Unit price</th>\n",
       "      <th>Quantity</th>\n",
       "    </tr>\n",
       "    <tr>\n",
       "      <th>City</th>\n",
       "      <th>Branch</th>\n",
       "      <th></th>\n",
       "      <th></th>\n",
       "    </tr>\n",
       "  </thead>\n",
       "  <tbody>\n",
       "    <tr>\n",
       "      <th rowspan=\"3\" valign=\"top\">Mandalay</th>\n",
       "      <th>A</th>\n",
       "      <td>6349.11</td>\n",
       "      <td>637</td>\n",
       "    </tr>\n",
       "    <tr>\n",
       "      <th>B</th>\n",
       "      <td>6623.73</td>\n",
       "      <td>664</td>\n",
       "    </tr>\n",
       "    <tr>\n",
       "      <th>C</th>\n",
       "      <td>5506.04</td>\n",
       "      <td>519</td>\n",
       "    </tr>\n",
       "    <tr>\n",
       "      <th rowspan=\"3\" valign=\"top\">Naypyitaw</th>\n",
       "      <th>A</th>\n",
       "      <td>5953.55</td>\n",
       "      <td>648</td>\n",
       "    </tr>\n",
       "    <tr>\n",
       "      <th>B</th>\n",
       "      <td>6298.64</td>\n",
       "      <td>604</td>\n",
       "    </tr>\n",
       "    <tr>\n",
       "      <th>C</th>\n",
       "      <td>6315.57</td>\n",
       "      <td>579</td>\n",
       "    </tr>\n",
       "    <tr>\n",
       "      <th rowspan=\"3\" valign=\"top\">Yangon</th>\n",
       "      <th>A</th>\n",
       "      <td>6342.88</td>\n",
       "      <td>598</td>\n",
       "    </tr>\n",
       "    <tr>\n",
       "      <th>B</th>\n",
       "      <td>6329.25</td>\n",
       "      <td>631</td>\n",
       "    </tr>\n",
       "    <tr>\n",
       "      <th>C</th>\n",
       "      <td>5953.36</td>\n",
       "      <td>630</td>\n",
       "    </tr>\n",
       "  </tbody>\n",
       "</table>\n",
       "</div>"
      ],
      "text/plain": [
       "                  Unit price  Quantity\n",
       "City      Branch                      \n",
       "Mandalay  A          6349.11       637\n",
       "          B          6623.73       664\n",
       "          C          5506.04       519\n",
       "Naypyitaw A          5953.55       648\n",
       "          B          6298.64       604\n",
       "          C          6315.57       579\n",
       "Yangon    A          6342.88       598\n",
       "          B          6329.25       631\n",
       "          C          5953.36       630"
      ]
     },
     "execution_count": 29,
     "metadata": {},
     "output_type": "execute_result"
    }
   ],
   "source": [
    "sales=df.groupby([\"City\",\"Branch\"])[\"Unit price\",\"Quantity\"].sum()\n",
    "sales"
   ]
  },
  {
   "cell_type": "code",
   "execution_count": 30,
   "id": "4d052144",
   "metadata": {},
   "outputs": [],
   "source": [
    "# Mandalay city,Highest unit price - 6623 and quantity - 664 in Branch B\n",
    "#Naypyitaw city,Highest unit price - 6315 and quantity - 648 in Branch C and A\n",
    "#Yangon city,Highest unit price - 6343 and quantity - 631 in Branch A and B"
   ]
  },
  {
   "cell_type": "markdown",
   "id": "10e6a615",
   "metadata": {},
   "source": [
    "# REVENUE"
   ]
  },
  {
   "cell_type": "code",
   "execution_count": 33,
   "id": "a5e619dc",
   "metadata": {},
   "outputs": [
    {
     "data": {
      "text/plain": [
       "City       Branch\n",
       "Mandalay   A         4044383.07\n",
       "           B         4398156.72\n",
       "           C         2857634.76\n",
       "Naypyitaw  A         3857900.40\n",
       "           B         3804378.56\n",
       "           C         3656715.03\n",
       "Yangon     A         3793042.24\n",
       "           B         3993756.75\n",
       "           C         3750616.80\n",
       "dtype: float64"
      ]
     },
     "execution_count": 33,
     "metadata": {},
     "output_type": "execute_result"
    }
   ],
   "source": [
    "revenue=sales[\"Unit price\"]*sales[\"Quantity\"]\n",
    "revenue"
   ]
  },
  {
   "cell_type": "markdown",
   "id": "6387b2fb",
   "metadata": {},
   "source": [
    "# creating a bar chart for revenue by city"
   ]
  },
  {
   "cell_type": "code",
   "execution_count": 42,
   "id": "6d4a8587",
   "metadata": {},
   "outputs": [
    {
     "data": {
      "image/png": "[encoded data removed]",
      "text/plain": [
       "<Figure size 600x400 with 1 Axes>"
      ]
     },
     "metadata": {},
     "output_type": "display_data"
    }
   ],
   "source": [
    "plt.figure(figsize=(6,4))\n",
    "plt.bar(sales.index.get_level_values(\"City\"),revenue,color=\"red\")\n",
    "plt.grid(color = 'black', linestyle = '--', linewidth = 0.2)\n",
    "plt.xlabel(\"CITY\")\n",
    "plt.ylabel(\"REVENUE\")\n",
    "plt.title(\"REVENUE BY CITY\")\n",
    "plt.show()"
   ]
  },
  {
   "cell_type": "raw",
   "id": "270eca29",
   "metadata": {},
   "source": [
    "# Mandalay city has Highest revenue"
   ]
  },
  {
   "cell_type": "markdown",
   "id": "bf270a54",
   "metadata": {},
   "source": [
    "# Bar chart for revenue by Branch"
   ]
  },
  {
   "cell_type": "code",
   "execution_count": 44,
   "id": "7cf53723",
   "metadata": {},
   "outputs": [
    {
     "data": {
      "image/png": "[encoded data removed]",
      "text/plain": [
       "<Figure size 600x400 with 1 Axes>"
      ]
     },
     "metadata": {},
     "output_type": "display_data"
    }
   ],
   "source": [
    "plt.figure(figsize=(6,4))\n",
    "plt.bar(sales.index.get_level_values(\"Branch\"),revenue,color=\"red\")\n",
    "plt.grid(color = 'black', linestyle = '--', linewidth = 0.2)\n",
    "plt.xlabel(\"BRANCH\")\n",
    "plt.ylabel(\"REVENUE\")\n",
    "plt.title(\"REVENUE BY BRANCH\")\n",
    "plt.show()"
   ]
  },
  {
   "cell_type": "raw",
   "id": "e63dd5d8",
   "metadata": {},
   "source": [
    "# Branch-B has Highest Revenue"
   ]
  },
  {
   "cell_type": "markdown",
   "id": "5052349a",
   "metadata": {},
   "source": [
    "# B.What is the average price of an item sold at each branch of the city "
   ]
  },
  {
   "cell_type": "code",
   "execution_count": 45,
   "id": "eae852fb",
   "metadata": {},
   "outputs": [
    {
     "data": {
      "text/plain": [
       "Branch\n",
       "A    54.360175\n",
       "B    56.622412\n",
       "C    56.072461\n",
       "Name: Unit price, dtype: float64"
      ]
     },
     "execution_count": 45,
     "metadata": {},
     "output_type": "execute_result"
    }
   ],
   "source": [
    "avg_price=df.groupby([\"Branch\"])[\"Unit price\"].mean()\n",
    "avg_price"
   ]
  },
  {
   "cell_type": "markdown",
   "id": "f694a9e2",
   "metadata": {},
   "source": [
    "# C.Analyze the performance of sales and revenue, Month over Month across the Product line, Gender, and Payment Method, and identify the focus areas to get better sales for April 2019"
   ]
  },
  {
   "cell_type": "markdown",
   "id": "3851cbe2",
   "metadata": {},
   "source": [
    "# Month over Month Sales Analysis"
   ]
  },
  {
   "cell_type": "code",
   "execution_count": 48,
   "id": "fff0cbc5",
   "metadata": {},
   "outputs": [
    {
     "data": {
      "text/html": [
       "<div>\n",
       "<style scoped>\n",
       "    .dataframe tbody tr th:only-of-type {\n",
       "        vertical-align: middle;\n",
       "    }\n",
       "\n",
       "    .dataframe tbody tr th {\n",
       "        vertical-align: top;\n",
       "    }\n",
       "\n",
       "    .dataframe thead th {\n",
       "        text-align: right;\n",
       "    }\n",
       "</style>\n",
       "<table border=\"1\" class=\"dataframe\">\n",
       "  <thead>\n",
       "    <tr style=\"text-align: right;\">\n",
       "      <th></th>\n",
       "      <th></th>\n",
       "      <th></th>\n",
       "      <th></th>\n",
       "      <th>Unit price</th>\n",
       "      <th>Quantity</th>\n",
       "    </tr>\n",
       "    <tr>\n",
       "      <th>Month</th>\n",
       "      <th>Product line</th>\n",
       "      <th>Gender</th>\n",
       "      <th>Payment</th>\n",
       "      <th></th>\n",
       "      <th></th>\n",
       "    </tr>\n",
       "  </thead>\n",
       "  <tbody>\n",
       "    <tr>\n",
       "      <th rowspan=\"5\" valign=\"top\">1</th>\n",
       "      <th rowspan=\"5\" valign=\"top\">Electronic accessories</th>\n",
       "      <th rowspan=\"3\" valign=\"top\">Female</th>\n",
       "      <th>Cash</th>\n",
       "      <td>534.48</td>\n",
       "      <td>52</td>\n",
       "    </tr>\n",
       "    <tr>\n",
       "      <th>Credit card</th>\n",
       "      <td>371.20</td>\n",
       "      <td>54</td>\n",
       "    </tr>\n",
       "    <tr>\n",
       "      <th>Ewallet</th>\n",
       "      <td>251.77</td>\n",
       "      <td>43</td>\n",
       "    </tr>\n",
       "    <tr>\n",
       "      <th rowspan=\"2\" valign=\"top\">Male</th>\n",
       "      <th>Cash</th>\n",
       "      <td>552.72</td>\n",
       "      <td>62</td>\n",
       "    </tr>\n",
       "    <tr>\n",
       "      <th>Credit card</th>\n",
       "      <td>433.88</td>\n",
       "      <td>43</td>\n",
       "    </tr>\n",
       "    <tr>\n",
       "      <th>...</th>\n",
       "      <th>...</th>\n",
       "      <th>...</th>\n",
       "      <th>...</th>\n",
       "      <td>...</td>\n",
       "      <td>...</td>\n",
       "    </tr>\n",
       "    <tr>\n",
       "      <th rowspan=\"5\" valign=\"top\">3</th>\n",
       "      <th>Health and beauty</th>\n",
       "      <th>Male</th>\n",
       "      <th>Ewallet</th>\n",
       "      <td>603.07</td>\n",
       "      <td>64</td>\n",
       "    </tr>\n",
       "    <tr>\n",
       "      <th rowspan=\"4\" valign=\"top\">Home and lifestyle</th>\n",
       "      <th rowspan=\"3\" valign=\"top\">Female</th>\n",
       "      <th>Cash</th>\n",
       "      <td>451.91</td>\n",
       "      <td>42</td>\n",
       "    </tr>\n",
       "    <tr>\n",
       "      <th>Credit card</th>\n",
       "      <td>298.96</td>\n",
       "      <td>59</td>\n",
       "    </tr>\n",
       "    <tr>\n",
       "      <th>Ewallet</th>\n",
       "      <td>1017.20</td>\n",
       "      <td>103</td>\n",
       "    </tr>\n",
       "    <tr>\n",
       "      <th>Male</th>\n",
       "      <th>Cash</th>\n",
       "      <td>511.87</td>\n",
       "      <td>59</td>\n",
       "    </tr>\n",
       "  </tbody>\n",
       "</table>\n",
       "<p>100 rows × 2 columns</p>\n",
       "</div>"
      ],
      "text/plain": [
       "                                                 Unit price  Quantity\n",
       "Month Product line           Gender Payment                          \n",
       "1     Electronic accessories Female Cash             534.48        52\n",
       "                                    Credit card      371.20        54\n",
       "                                    Ewallet          251.77        43\n",
       "                             Male   Cash             552.72        62\n",
       "                                    Credit card      433.88        43\n",
       "...                                                     ...       ...\n",
       "3     Health and beauty      Male   Ewallet          603.07        64\n",
       "      Home and lifestyle     Female Cash             451.91        42\n",
       "                                    Credit card      298.96        59\n",
       "                                    Ewallet         1017.20       103\n",
       "                             Male   Cash             511.87        59\n",
       "\n",
       "[100 rows x 2 columns]"
      ]
     },
     "execution_count": 48,
     "metadata": {},
     "output_type": "execute_result"
    }
   ],
   "source": [
    "sales_analysis=df.groupby([\"Month\",\"Product line\",\"Gender\",\"Payment\"])[[\"Unit price\",\"Quantity\"]].sum()\n",
    "sales_analysis.head(100)"
   ]
  },
  {
   "cell_type": "markdown",
   "id": "bcc10b9d",
   "metadata": {},
   "source": [
    "# Calculate Revenue and Compare Month Over Month Changes"
   ]
  },
  {
   "cell_type": "code",
   "execution_count": 49,
   "id": "77197663",
   "metadata": {},
   "outputs": [],
   "source": [
    "sales_analysis[\"Revenue\"]=sales_analysis[\"Unit price\"]*sales_analysis[\"Quantity\"]\n",
    "monthly_changes=sales_analysis.groupby([\"Product line\",\"Gender\",\"Payment\"])[\"Revenue\"].diff()"
   ]
  },
  {
   "cell_type": "code",
   "execution_count": 51,
   "id": "b5132e39",
   "metadata": {},
   "outputs": [
    {
     "data": {
      "text/plain": [
       "Month  Product line            Gender  Payment    \n",
       "1      Electronic accessories  Female  Cash           27792.96\n",
       "                                       Credit card    20044.80\n",
       "                                       Ewallet        10826.11\n",
       "                               Male    Cash           34268.64\n",
       "                                       Credit card    18656.84\n",
       "                                                        ...   \n",
       "3      Sports and travel       Female  Credit card    22475.44\n",
       "                                       Ewallet        26494.17\n",
       "                               Male    Cash           17779.68\n",
       "                                       Credit card    29002.80\n",
       "                                       Ewallet        69225.70\n",
       "Name: Revenue, Length: 108, dtype: float64"
      ]
     },
     "execution_count": 51,
     "metadata": {},
     "output_type": "execute_result"
    }
   ],
   "source": [
    "sales_analysis[\"Revenue\"]"
   ]
  },
  {
   "cell_type": "markdown",
   "id": "d89bc7ea",
   "metadata": {},
   "source": [
    "# Month Over Month Changes"
   ]
  },
  {
   "cell_type": "code",
   "execution_count": 53,
   "id": "0424b95a",
   "metadata": {},
   "outputs": [
    {
     "data": {
      "text/plain": [
       "Month  Product line            Gender  Payment    \n",
       "1      Electronic accessories  Female  Cash                NaN\n",
       "                                       Credit card         NaN\n",
       "                                       Ewallet             NaN\n",
       "                               Male    Cash                NaN\n",
       "                                       Credit card         NaN\n",
       "                                                        ...   \n",
       "3      Sports and travel       Female  Credit card    12273.76\n",
       "                                       Ewallet       -17643.14\n",
       "                               Male    Cash            5548.23\n",
       "                                       Credit card    17915.79\n",
       "                                       Ewallet        65681.95\n",
       "Name: Revenue, Length: 108, dtype: float64"
      ]
     },
     "execution_count": 53,
     "metadata": {},
     "output_type": "execute_result"
    }
   ],
   "source": [
    "monthly_changes"
   ]
  },
  {
   "cell_type": "markdown",
   "id": "15c3817e",
   "metadata": {},
   "source": [
    "# 2. Explore the features and user experience of the Jar app. Identify two aspects that you think could be significantly improved and explain your reasoning behind each suggestion."
   ]
  },
  {
   "cell_type": "code",
   "execution_count": null,
   "id": "f1e88b42",
   "metadata": {},
   "outputs": [],
   "source": [
    "1.Enhanced User Education and Engagement: \n",
    "    According to me While the Jar app promotes the concept of saving in digital gold effectively,there is room to improve \n",
    "    user education and engagement. The app can benefit from more interactive tutorials, infographics,or videos explaining \n",
    "    the benefits of saving in digital gold, how gold investment works through the app, and the long-term advantages of \n",
    "    such investments.Providing users with real-time updates on gold prices and performance could also increase engagement \n",
    "    and help users understand the potential returns from their savings. This could lead to better user retention and more active participation\n",
    "    in the savings process.\n",
    "\n",
    "2.Streamlined User Experience for Savings Options:\n",
    "    In my point of view , The app offers different ways to save, such as daily savings, round-offs, and manual savings. \n",
    "    To enhance user experience,it would be beneficial to streamline these options and provide clear guidance on which \n",
    "    savings method suits different user preferences and financial goals. The app could implement a guided onboarding \n",
    "    process where users answer a few questions about their savings goals and risk tolerance, and then receive personalized\n",
    "    recommendations on the most suitable saving  method. Additionally, simplifying the withdrawal process and offering more\n",
    "    flexible withdrawal options Example:  partial withdrawals could further improve user satisfaction and trust in the app.\n",
    "\n"
   ]
  },
  {
   "cell_type": "markdown",
   "id": "d0f0e791",
   "metadata": {},
   "source": [
    "# 3.Product Optimisation:The Jar app has an engagement feature called 'Spin to Win'.Right now, if 100 people come to the app each day, only 23 of them try out this spinning game. But, we know that people who spin are more likely to retain on the app and do transactions.Now, we want to get more people to play the game. So, the question is, how can we make sure that at least 50 people out of every 100 who visit the app each day will play 'Spin to Win'? What can we do to get more people interested in spinning the wheel?\n"
   ]
  },
  {
   "cell_type": "code",
   "execution_count": null,
   "id": "455951aa",
   "metadata": {},
   "outputs": [],
   "source": [
    "1.Offer incentives to Users: Consider giving out rewards, discounts, or other benefits to users who play \n",
    "  the game regularly by doing this we can engage our customers.\n",
    "\n",
    "2.Make the game more visible: Ensure that the spinning game is prominently displayed in the app’s \n",
    "  home screen or in the engagement section and concentrating on UI which gives stakeholders a new experience and providing\n",
    "  constant new updates.\n",
    "\n",
    "3.Provide education content: Add information articles or videos about how the game works and how users can increase their\n",
    "  chances of winning.\n",
    "\n",
    "4.Run promotions or events: Host a virtual event or promotion to encourage users to spin the wheel and try their luck."
   ]
  }
 ],
 "metadata": {
  "kernelspec": {
   "display_name": "Python 3 (ipykernel)",
   "language": "python",
   "name": "python3"
  },
  "language_info": {
   "codemirror_mode": {
    "name": "ipython",
    "version": 3
   },
   "file_extension": ".py",
   "mimetype": "text/x-python",
   "name": "python",
   "nbconvert_exporter": "python",
   "pygments_lexer": "ipython3",
   "version": "3.10.9"
  }
 },
 "nbformat": 4,
 "nbformat_minor": 5
}
